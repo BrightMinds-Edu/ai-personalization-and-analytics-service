{
 "cells": [
  {
   "cell_type": "code",
   "execution_count": null,
   "id": "d042c272",
   "metadata": {},
   "outputs": [],
   "source": [
    "from google import genai\n",
    "\n",
    "genai.configure(api_key=os.getenv(\"GOOGLE_API_KEY\"))\n"
   ]
  },
  {
   "cell_type": "code",
   "execution_count": 1,
   "id": "7497be74",
   "metadata": {},
   "outputs": [
    {
     "name": "stdout",
     "output_type": "stream",
     "text": [
      "models/chat-bison-001\n",
      "models/text-bison-001\n",
      "models/embedding-gecko-001\n",
      "models/gemini-1.0-pro-vision-latest\n",
      "models/gemini-pro-vision\n",
      "models/gemini-1.5-pro-latest\n",
      "models/gemini-1.5-pro-001\n",
      "models/gemini-1.5-pro-002\n",
      "models/gemini-1.5-pro\n",
      "models/gemini-1.5-flash-latest\n",
      "models/gemini-1.5-flash-001\n",
      "models/gemini-1.5-flash-001-tuning\n",
      "models/gemini-1.5-flash\n",
      "models/gemini-1.5-flash-002\n",
      "models/gemini-1.5-flash-8b\n",
      "models/gemini-1.5-flash-8b-001\n",
      "models/gemini-1.5-flash-8b-latest\n",
      "models/gemini-1.5-flash-8b-exp-0827\n",
      "models/gemini-1.5-flash-8b-exp-0924\n",
      "models/gemini-2.5-pro-exp-03-25\n",
      "models/gemini-2.5-pro-preview-03-25\n",
      "models/gemini-2.5-flash-preview-04-17\n",
      "models/gemini-2.0-flash-exp\n",
      "models/gemini-2.0-flash\n",
      "models/gemini-2.0-flash-001\n",
      "models/gemini-2.0-flash-exp-image-generation\n",
      "models/gemini-2.0-flash-lite-001\n",
      "models/gemini-2.0-flash-lite\n",
      "models/gemini-2.0-flash-lite-preview-02-05\n",
      "models/gemini-2.0-flash-lite-preview\n",
      "models/gemini-2.0-pro-exp\n",
      "models/gemini-2.0-pro-exp-02-05\n",
      "models/gemini-exp-1206\n",
      "models/gemini-2.0-flash-thinking-exp-01-21\n",
      "models/gemini-2.0-flash-thinking-exp\n",
      "models/gemini-2.0-flash-thinking-exp-1219\n",
      "models/learnlm-1.5-pro-experimental\n",
      "models/learnlm-2.0-flash-experimental\n",
      "models/gemma-3-1b-it\n",
      "models/gemma-3-4b-it\n",
      "models/gemma-3-12b-it\n",
      "models/gemma-3-27b-it\n",
      "models/embedding-001\n",
      "models/text-embedding-004\n",
      "models/gemini-embedding-exp-03-07\n",
      "models/gemini-embedding-exp\n",
      "models/aqa\n",
      "models/imagen-3.0-generate-002\n",
      "models/veo-2.0-generate-001\n",
      "models/gemini-2.0-flash-live-001\n"
     ]
    }
   ],
   "source": [
    "from google import genai\n",
    "from google.genai import types\n",
    "client = genai.Client() # Get the key from the GOOGLE_API_KEY env variable\n",
    "\n",
    "for model_info in client.models.list():\n",
    "    print(model_info.name)"
   ]
  },
  {
   "cell_type": "code",
   "execution_count": 5,
   "id": "ec15e388",
   "metadata": {},
   "outputs": [
    {
     "name": "stdout",
     "output_type": "stream",
     "text": [
      "The Hussain vs. Jiffry case, also known as the \"Mosque Lands Case\", is a landmark legal battle in Sri Lanka that has profound implications for the country's religious and political landscape. Here's why it's important:\n",
      "\n",
      "**1. Dispute over Ownership and Control of Mosques:**\n",
      "   - The case revolves around the ownership and control of 1,000 acres of land in the Eastern Province, traditionally used by Muslims for mosques, graveyards, and other religious purposes.\n",
      "   - The land was originally granted to a Muslim philanthropist by the British colonial government in the 19th century.\n",
      "   - However, after Sri Lanka's independence, the government began claiming ownership of the land, citing legal technicalities and arguing that the original grant was invalid.\n",
      "\n",
      "**2. Impact on Muslim Religious Practices:**\n",
      "   - The outcome of the case directly affects the ability of Muslims in Sri Lanka to practice their religion freely and access sacred sites.\n",
      "   - If the government is declared the rightful owner, it could potentially restrict or control access to mosques and other religious properties.\n",
      "\n",
      "**3. Tensions between Muslim and Sinhalese Communities:**\n",
      "   - The case has become a symbol of ethnic and religious tensions in Sri Lanka.\n",
      "   - Many Muslims view the government's actions as an attempt to marginalize their community and undermine their religious rights.\n",
      "   - Sinhalese Buddhist nationalists, on the other hand, often support the government's position, seeing it as a way to assert Sinhalese dominance.\n",
      "\n",
      "**4. Legal Precedents and Interpretation of Land Laws:**\n",
      "   - The case has far-reaching implications for the interpretation of land laws in Sri Lanka, particularly those related to religious endowments and historical grants.\n",
      "   - The court's decision will set a precedent for future disputes over land ownership and religious institutions.\n",
      "\n",
      "**5. Political and Social Consequences:**\n",
      "   - The outcome of the case could influence political alliances and power dynamics in Sri Lanka.\n",
      "   - A victory for the Muslim community could strengthen their political voice and influence.\n",
      "   - Conversely, a government victory could embolden Sinhalese nationalist forces.\n",
      "\n",
      "**6. International Attention and Human Rights Concerns:**\n",
      "   - The case has attracted international attention due to its implications for religious freedom and minority rights in Sri Lanka.\n",
      "   - Human rights organizations have expressed concern over the potential for discrimination and marginalization of the Muslim community.\n",
      "\n",
      "**7. Ongoing Legal Battles and Uncertain Future:**\n",
      "   - The case has been ongoing for decades, with numerous court hearings and appeals.\n",
      "   - The final outcome remains uncertain, and the legal battle continues to shape religious and ethnic relations in Sri Lanka.\n",
      "\n",
      "In conclusion, the Hussain vs. Jiffry case is a pivotal legal battle with far-reaching consequences for Sri Lanka's religious, political, and social landscape. Its outcome will determine the future of Muslim religious practices, ethnic relations, and the interpretation of land laws in the country. The case continues to be a source of tension and uncertainty, highlighting the ongoing challenges to religious freedom and minority rights in Sri Lanka.\n"
     ]
    }
   ],
   "source": [
    "import google.generativeai as genai\n",
    "\n",
    "# Configure your API Key\n",
    "# genai.configure(api_key=\"YOUR_GOOGLE_API_KEY\")\n",
    "\n",
    "# Load the model\n",
    "model = genai.GenerativeModel(\n",
    "    model_name=\"tunedModels/generate-num-7045\",\n",
    ")\n",
    "\n",
    "# Generate content\n",
    "response = model.generate_content(\"Explain the importance of Hussain vs. Jiffry case.\")\n",
    "\n",
    "print(response.text)"
   ]
  },
  {
   "cell_type": "code",
   "execution_count": null,
   "id": "d01650cd",
   "metadata": {},
   "outputs": [
    {
     "ename": "NameError",
     "evalue": "name 'tuning_job' is not defined",
     "output_type": "error",
     "traceback": [
      "\u001b[31m---------------------------------------------------------------------------\u001b[39m",
      "\u001b[31mNameError\u001b[39m                                 Traceback (most recent call last)",
      "\u001b[36mCell\u001b[39m\u001b[36m \u001b[39m\u001b[32mIn[2]\u001b[39m\u001b[32m, line 2\u001b[39m\n\u001b[32m      1\u001b[39m response = client.models.generate_content(\n\u001b[32m----> \u001b[39m\u001b[32m2\u001b[39m     model=\u001b[43mtuning_job\u001b[49m.tuned_model.model,\n\u001b[32m      3\u001b[39m     contents=\u001b[33m'\u001b[39m\u001b[33mIII\u001b[39m\u001b[33m'\u001b[39m\n\u001b[32m      4\u001b[39m )\n",
      "\u001b[31mNameError\u001b[39m: name 'tuning_job' is not defined"
     ]
    }
   ],
   "source": [
    "response = client.models.generate_content(\n",
    "    model=tuning_job.tuned_model.model,\n",
    "    contents='III',\n",
    ")\n",
    "\n",
    "print(response.text)"
   ]
  },
  {
   "cell_type": "code",
   "execution_count": null,
   "id": "40d15720",
   "metadata": {},
   "outputs": [
    {
     "data": {
      "text/plain": [
       "'Environment'"
      ]
     },
     "execution_count": 3,
     "metadata": {},
     "output_type": "execute_result"
    }
   ],
   "source": []
  }
 ],
 "metadata": {
  "kernelspec": {
   "display_name": "brightminds",
   "language": "python",
   "name": "python3"
  },
  "language_info": {
   "codemirror_mode": {
    "name": "ipython",
    "version": 3
   },
   "file_extension": ".py",
   "mimetype": "text/x-python",
   "name": "python",
   "nbconvert_exporter": "python",
   "pygments_lexer": "ipython3",
   "version": "3.13.3"
  }
 },
 "nbformat": 4,
 "nbformat_minor": 5
}
